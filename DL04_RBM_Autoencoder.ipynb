{
 "cells": [
  {
   "cell_type": "markdown",
   "metadata": {},
   "source": [
    "# DeepLearning 04. Restricted Boltzmann Machines (RBM) and Autoencoder\n",
    "\n",
    "* **Implementation 5a**: RBM with Tensorflow\n",
    "    * Reconstructing MNIST images.\n",
    "\n",
    "* **Implementation 5b**: Autoencoder with Tensorflow\n",
    "    * TBD"
   ]
  },
  {
   "cell_type": "markdown",
   "metadata": {},
   "source": [
    "## I. Implementation 5a"
   ]
  },
  {
   "cell_type": "code",
   "execution_count": 3,
   "metadata": {
    "collapsed": true
   },
   "outputs": [],
   "source": [
    "import numpy as np\n",
    "import tensorflow as tf\n",
    "import matplotlib.pyplot as plt\n",
    "%matplotlib inline"
   ]
  },
  {
   "cell_type": "code",
   "execution_count": 6,
   "metadata": {
    "collapsed": false,
    "scrolled": false
   },
   "outputs": [
    {
     "name": "stdout",
     "output_type": "stream",
     "text": [
      "Extracting /Users/jacobsw/Desktop/UNIV/SPRING_2017/LIN389C_RSCH_COMPLING/CODE/MNIST/train-images-idx3-ubyte.gz\n",
      "Extracting /Users/jacobsw/Desktop/UNIV/SPRING_2017/LIN389C_RSCH_COMPLING/CODE/MNIST/train-labels-idx1-ubyte.gz\n",
      "Extracting /Users/jacobsw/Desktop/UNIV/SPRING_2017/LIN389C_RSCH_COMPLING/CODE/MNIST/t10k-images-idx3-ubyte.gz\n",
      "Extracting /Users/jacobsw/Desktop/UNIV/SPRING_2017/LIN389C_RSCH_COMPLING/CODE/MNIST/t10k-labels-idx1-ubyte.gz\n"
     ]
    }
   ],
   "source": [
    "# LOAD DATA\n",
    "\n",
    "path = \"/Users/jacobsw/Desktop/UNIV/SPRING_2017/LIN389C_RSCH_COMPLING/CODE/MNIST/\"\n",
    "mnist = input_data.read_data_sets(path, one_hot=True)\n",
    "X_train, X_test = mnist.train.images, mnist.test.images"
   ]
  },
  {
   "cell_type": "code",
   "execution_count": 17,
   "metadata": {
    "collapsed": false
   },
   "outputs": [
    {
     "name": "stdout",
     "output_type": "stream",
     "text": [
      "Cost at the first run:  0.481142\n",
      "\n",
      "Epoch: 0 reconstruction cost: 0.062787\n",
      "Epoch: 1 reconstruction cost: 0.051647\n",
      "Epoch: 2 reconstruction cost: 0.049446\n",
      "Epoch: 3 reconstruction cost: 0.046157\n",
      "Epoch: 4 reconstruction cost: 0.045261\n"
     ]
    },
    {
     "data": {
      "image/png": "[encoded data removed]",
      "text/plain": [
       "<matplotlib.figure.Figure at 0x11759cb50>"
      ]
     },
     "metadata": {},
     "output_type": "display_data"
    }
   ],
   "source": [
    "# BUILD GRAPH\n",
    "\n",
    "vb = tf.placeholder('float', [784]) # 784-unit bias at input layer.\n",
    "hb = tf.placeholder('float', [500]) # 500-unit bias at hidden/abstraction layer.\n",
    "\n",
    "# weights\n",
    "#   updated with Contrastive Divergence (CD): \n",
    "#   W' = W + alpha*CD, where CD = (pos_grad-neg_grad)/num_data.\n",
    "W = tf.placeholder('float', [784, 500]) # weight/projection matrix from input to hidden layer.\n",
    "\n",
    "# forward pass (positive phase)\n",
    "#   goal: increase the probability of training data.\n",
    "v0 = tf.placeholder('float', [None, 784]) # input of unspecified batch size.\n",
    "_h0 = tf.nn.sigmoid(tf.matmul(v0, W) + hb) # prob of hidden units. (dims: ? x 784 * 784 x 500 + 500)\n",
    "h0 = tf.nn.relu(tf.sign(_h0 - tf.random_uniform(tf.shape(_h0)))) # sampling (h given v) (SEE APPENDIX). \n",
    "\n",
    "# backward pass (negative phase)\n",
    "#   goal: decrease the probability of the samples generated by the model.\n",
    "_v1 = tf.nn.sigmoid(tf.matmul(h0, tf.transpose(W)) + vb) # prob of input units. (dims: 500 * 500 x 784 + 784)\n",
    "v1 = tf.nn.relu(tf.sign(_v1 - tf.random_uniform(tf.shape(_v1)))) # sampling (v given h).\n",
    "\n",
    "# second round ...\n",
    "h1 = tf.nn.sigmoid(tf.matmul(v1, W) + hb) # NB: the same weights. (dims: 784 * 784 x 500 + 500)\n",
    "\n",
    "alpha = 1.\n",
    "w_pos_grad = tf.matmul(tf.transpose(v0), h0) # v0: contains prob_true; h0: contains positive samples.\n",
    "w_neg_grad = tf.matmul(tf.transpose(v1), h1) # v1: contains negative samples (from hidden); h1: constructed from negs\n",
    "CD = (w_pos_grad - w_neg_grad) / tf.to_float(tf.shape(v0)[0]) # Contrastive Divergence (CD).\n",
    "update_w = W + alpha * CD\n",
    "update_vb = vb + alpha * tf.reduce_mean(v0 - v1, 0)\n",
    "update_hb = hb + alpha * tf.reduce_mean(h0 - h1, 0)\n",
    "\n",
    "cost = tf.reduce_mean(tf.square(v0 - v1))\n",
    "\n",
    "# TRAINING\n",
    "\n",
    "# initialization\n",
    "cur_w = np.zeros([784, 500], np.float32) # NB: only one set of weights, init with 0 is fine.\n",
    "cur_vb = np.zeros([784], np.float32)\n",
    "cur_hb = np.zeros([500], np.float32)\n",
    "prv_w = np.zeros([784, 500], np.float32)\n",
    "prv_vb = np.zeros([784], np.float32)\n",
    "prv_hb = np.zeros([500], np.float32)\n",
    "\n",
    "sess = tf.Session()\n",
    "sess.run(tf.global_variables_initializer())\n",
    "print \"Cost at the first run: \", sess.run(cost, feed_dict={v0:X_train, W:prv_w, vb:prv_vb, hb:prv_hb})\n",
    "print\n",
    "\n",
    "epochs = 5\n",
    "batchsize = 100\n",
    "weights = []\n",
    "costs = []\n",
    "\n",
    "for epoch in range(epochs):\n",
    "    for start,end in zip(range(0,len(X_train),batchsize),range(batchsize,len(X_train),batchsize)):\n",
    "        batch = X_train[start:end]\n",
    "        cur_w = sess.run(update_w, feed_dict={v0:batch, W:prv_w, vb:prv_vb, hb:prv_hb})\n",
    "        cur_vb = sess.run(update_vb, feed_dict={v0:batch, W:prv_w, vb:prv_vb, hb:prv_hb})\n",
    "        cur_hb = sess.run(update_hb, feed_dict={v0:batch, W:prv_w, vb:prv_vb, hb:prv_hb})\n",
    "        prv_w = cur_w\n",
    "        prv_vb = cur_vb\n",
    "        prv_hb = cur_hb\n",
    "        if start % 10000 == 0:\n",
    "            costs.append(sess.run(cost, feed_dict={v0:batch, W:prv_w, vb:prv_vb, hb:prv_hb}))\n",
    "            weights.append(cur_w)\n",
    "    print 'Epoch: %d' % epoch, 'reconstruction cost: %f' % costs[-1]\n",
    "\n",
    "plt.plot(costs)\n",
    "plt.xlabel('Batch Number')\n",
    "plt.ylabel('Cost')\n",
    "plt.show()"
   ]
  },
  {
   "cell_type": "code",
   "execution_count": 18,
   "metadata": {
    "collapsed": false
   },
   "outputs": [
    {
     "name": "stdout",
     "output_type": "stream",
     "text": [
      "Input Image:\n",
      "\n"
     ]
    },
    {
     "data": {
      "image/png": "[encoded data removed]",
      "text/plain": [
       "<matplotlib.figure.Figure at 0x1183f5b10>"
      ]
     },
     "metadata": {},
     "output_type": "display_data"
    },
    {
     "name": "stdout",
     "output_type": "stream",
     "text": [
      "\n",
      "Reconstructed Image:\n",
      "\n"
     ]
    },
    {
     "data": {
      "image/png": "[encoded data removed]",
      "text/plain": [
       "<matplotlib.figure.Figure at 0x11a3dae50>"
      ]
     },
     "metadata": {},
     "output_type": "display_data"
    }
   ],
   "source": [
    "# PREDICTION\n",
    "\n",
    "print \"Input Image:\\n\"\n",
    "img_in = X_train[1:2].reshape(28,28) # trX[1:2] returns shape (1,784), satisfying v0's required shape [None, 784].\n",
    "plt.imshow(img_in, cmap='gray')\n",
    "plt.show()\n",
    "print\n",
    "\n",
    "# pass original image through trained RBM\n",
    "hh0 = tf.nn.sigmoid(tf.matmul(v0, W) + hb)\n",
    "vv1 = tf.nn.sigmoid(tf.matmul(hh0, tf.transpose(W)) + vb)\n",
    "feed = sess.run(hh0, feed_dict={v0:X_train[1:2], W:prv_w, hb:prv_hb})\n",
    "rec = sess.run(vv1, feed_dict={hh0:feed, W:prv_w, vb:prv_vb})\n",
    "\n",
    "print \"Reconstructed Image:\\n\"\n",
    "img_out = rec.reshape(28,28)\n",
    "plt.imshow(img_out, cmap='gray')\n",
    "\n",
    "sess.close()"
   ]
  },
  {
   "cell_type": "code",
   "execution_count": 13,
   "metadata": {
    "collapsed": false
   },
   "outputs": [
    {
     "name": "stdout",
     "output_type": "stream",
     "text": [
      "[ 0.69999999  0.1         0.80000001  0.2       ]\n",
      "[ 0.01756859  0.88238037  0.43475688  0.24791288]\n",
      "[ 0.6824314  -0.78238034  0.36524314 -0.04791288]\n",
      "[ 1. -1.  1. -1.]\n",
      "[ 1.  0.  1.  0.]\n"
     ]
    }
   ],
   "source": [
    "# APPENDIX: SAMPLING\n",
    "\n",
    "with tf.Session() as sess:\n",
    "    a = tf.constant([0.7, 0.1, 0.8, 0.2]) # it's setup s.t. 0,2 are more likely to be sampled, and 1,3 less likely.\n",
    "    print sess.run(a)\n",
    "    b = sess.run(tf.random_uniform(tf.shape(a))) # now sample from a length-4 uniform list (4 values between [0,1]).\n",
    "    print b\n",
    "    print sess.run( a - b ) # if a[i] is big, it is more likely to be positive here (on the 'sampled side').\n",
    "    print sess.run(tf.sign( a - b)) # if a value is sampled, use 1 to mark it, otherwise use -1.\n",
    "    print sess.run(tf.nn.relu(tf.sign( a - b))) # turn all -1 marked values to 0, 1 marked to 1.\n",
    "        # result: a list of values (0 or 1), 1's are sampled ones."
   ]
  },
  {
   "cell_type": "code",
   "execution_count": null,
   "metadata": {
    "collapsed": true
   },
   "outputs": [],
   "source": []
  },
  {
   "cell_type": "code",
   "execution_count": null,
   "metadata": {
    "collapsed": true
   },
   "outputs": [],
   "source": []
  },
  {
   "cell_type": "code",
   "execution_count": null,
   "metadata": {
    "collapsed": true
   },
   "outputs": [],
   "source": []
  },
  {
   "cell_type": "code",
   "execution_count": null,
   "metadata": {
    "collapsed": true
   },
   "outputs": [],
   "source": []
  },
  {
   "cell_type": "code",
   "execution_count": null,
   "metadata": {
    "collapsed": true
   },
   "outputs": [],
   "source": []
  },
  {
   "cell_type": "code",
   "execution_count": null,
   "metadata": {
    "collapsed": true
   },
   "outputs": [],
   "source": []
  },
  {
   "cell_type": "code",
   "execution_count": null,
   "metadata": {
    "collapsed": true
   },
   "outputs": [],
   "source": []
  },
  {
   "cell_type": "code",
   "execution_count": null,
   "metadata": {
    "collapsed": true
   },
   "outputs": [],
   "source": []
  },
  {
   "cell_type": "code",
   "execution_count": null,
   "metadata": {
    "collapsed": true
   },
   "outputs": [],
   "source": []
  }
 ],
 "metadata": {
  "kernelspec": {
   "display_name": "Python 2",
   "language": "python",
   "name": "python2"
  },
  "language_info": {
   "codemirror_mode": {
    "name": "ipython",
    "version": 2
   },
   "file_extension": ".py",
   "mimetype": "text/x-python",
   "name": "python",
   "nbconvert_exporter": "python",
   "pygments_lexer": "ipython2",
   "version": "2.7.11"
  }
 },
 "nbformat": 4,
 "nbformat_minor": 0
}
