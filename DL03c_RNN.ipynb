{
 "cells": [
  {
   "cell_type": "markdown",
   "metadata": {},
   "source": [
    "# DeepLearning 03c. Recurrent Neural Nets (RNN)\n",
    "\n",
    "**NB**: This is a simple demo. Hyperparams are not tuned for optimal performance.\n",
    "\n",
    "* **Implementation 4f**: RNN with Tensorflow (static Bi-LSTM)\n",
    "    * Demo the use of TensorBoard \n",
    "    \n",
    "* **Implementation 4g**: RNN with Tensorflow (dynamic Bi-LSTM)\n",
    "    * Investigate out-of-vocab (OOV) stats"
   ]
  },
  {
   "cell_type": "code",
   "execution_count": 1,
   "metadata": {
    "collapsed": true
   },
   "outputs": [],
   "source": [
    "import sys, nltk\n",
    "import numpy as np\n",
    "import pandas as pd\n",
    "import tensorflow as tf\n",
    "from nltk.corpus import brown\n",
    "from itertools import chain\n",
    "from spacy.en import English"
   ]
  },
  {
   "cell_type": "markdown",
   "metadata": {},
   "source": [
    "## I. Implementation 4f"
   ]
  },
  {
   "cell_type": "code",
   "execution_count": 73,
   "metadata": {
    "collapsed": true
   },
   "outputs": [],
   "source": [
    "import matplotlib.image as mpimg\n",
    "import matplotlib.pyplot as plt\n",
    "%matplotlib inline"
   ]
  },
  {
   "cell_type": "markdown",
   "metadata": {},
   "source": [
    "### A. LOAD & PREPROCESS DATA"
   ]
  },
  {
   "cell_type": "code",
   "execution_count": 47,
   "metadata": {
    "collapsed": false
   },
   "outputs": [],
   "source": [
    "# LOAD DATA\n",
    "\n",
    "sents = brown.sents()\n",
    "\n",
    "# DATA NORMALIZATION (LEMMATIZATION)\n",
    "\n",
    "# set limit on vocab size (for demo purpose)\n",
    "vocabulary_size = 10000\n",
    "# handle unknown token and corresponding label\n",
    "pad_token = \"<PAD>\"\n",
    "pad_label = \"PAD\"\n",
    "unknown_token = \"<UNK>\"\n",
    "unknown_label = \"UNK\"\n",
    "# start/end tokens (cf. Jurafsky & Martin on n-gram language models)\n",
    "sentence_start_token = \"<S>\"\n",
    "sentence_end_token = \"</S>\"\n",
    "\n",
    "# load parser\n",
    "parser = English()\n",
    "# lemmatize\n",
    "X, Y = [], []\n",
    "for sent in sents:\n",
    "    words = ' '.join(sent) # list of words -> sent as string, for spacy parser.\n",
    "    parsed_sent = parser(unicode(words))\n",
    "    lemmas = [token.lemma_ for token in parsed_sent]\n",
    "    labels = [token.pos_ for token in parsed_sent] # use spacy's tagging as target.\n",
    "    X.append(lemmas)\n",
    "    Y.append(labels)\n",
    "\n",
    "# build word dictionary for lookup\n",
    "word_freq = nltk.FreqDist(chain(*X))    \n",
    "vocab = word_freq.most_common(vocabulary_size - 1) # [(w,freq)...]. leave 1 slot for <UNK>.\n",
    "i2w = [pad_token] + [elem[0] for elem in vocab] + [unknown_token]\n",
    "w2i = {w:i for i,w in enumerate(i2w)}\n",
    "# replace words under frequency cut to <UNK>\n",
    "for i,sent in enumerate(X):\n",
    "    X[i] = [w if w in w2i else unknown_token for w in sent]\n",
    "    \n",
    "# build label dictionary for lookup\n",
    "label_vocab = list(set(chain(*Y)))\n",
    "i2l = [pad_label] + [x for x in label_vocab] + [unknown_label]\n",
    "l2i = dict([(l,i) for i,l in enumerate(i2l)])\n",
    "label_vocabulary_size = len(l2i)\n",
    "for i,labels in enumerate(Y):\n",
    "    Y[i] = [l for l in labels]\n",
    "\n",
    "# one-hot encoding: word/label -> word/label index\n",
    "train_valid_split = (int)(len(X)*0.8)\n",
    "valid_test_split = (int)(len(X)*0.9)\n",
    "X_encoded = np.asarray([[w2i[w] for w in sent] for sent in X])\n",
    "Y_encoded = np.asarray([[l2i[unknown_label] if X[i][j]==unknown_token else l2i[l]\n",
    "                       for j,l in enumerate(labels)] for i,labels in enumerate(Y)])\n",
    "X_train = X_encoded[:train_valid_split]\n",
    "Y_train = Y_encoded[:train_valid_split]\n",
    "X_valid = X_encoded[train_valid_split:valid_test_split]\n",
    "Y_valid = Y_encoded[train_valid_split:valid_test_split]\n",
    "X_test = X_encoded[valid_test_split:]\n",
    "Y_test = Y_encoded[valid_test_split:]\n",
    "\n",
    "# PANDA DATAFRAME (sequence lenth for later: dynamic rnn)\n",
    "\n",
    "df_train = pd.DataFrame({'X':X_train, 'Y':Y_train})\n",
    "df_train['seq_len'] = map(lambda x:len(x), df_train['X'])\n",
    "df_valid = pd.DataFrame({'X':X_valid, 'Y':Y_valid})\n",
    "df_valid['seq_len'] = map(lambda x:len(x), df_valid['X'])\n",
    "df_test = pd.DataFrame({'X':X_test, 'Y':Y_test})\n",
    "df_test['seq_len'] = map(lambda x:len(x), df_test['X'])\n",
    "\n",
    "# GENERIC DATA ITERATOR\n",
    "\n",
    "class DataIterator():\n",
    "    \n",
    "    def __init__(self, df):\n",
    "        self.df = df\n",
    "        self.size = len(self.df)\n",
    "        self.epochs = 0\n",
    "        self.shuffle()\n",
    "    \n",
    "    def shuffle(self):\n",
    "        # sample 100% with different index, but not add new index column\n",
    "        self.df = self.df.sample(frac=1).reset_index(drop=True) \n",
    "        self.cursor = 0\n",
    "    \n",
    "    def next_batch(self, n):\n",
    "        if self.cursor+n-1 > self.size:\n",
    "            self.epochs += 1\n",
    "            self.shuffle()\n",
    "        res = self.df.ix[self.cursor:self.cursor+n-1]\n",
    "        self.cursor += n\n",
    "        return res['X'], res['Y'], res['seq_len']\n",
    "    \n",
    "# PADDED ITERATOR\n",
    "\n",
    "max_len = max(max(df_train['seq_len']), max(df_valid['seq_len']), max(df_test['seq_len'])) # longest sent in corpus.\n",
    "\n",
    "class FullPaddedDataIterator(DataIterator):\n",
    "    \n",
    "    def next_batch(self, n):\n",
    "        \n",
    "        if self.cursor+n > self.size:\n",
    "            self.epochs += 1\n",
    "            self.shuffle()\n",
    "        res = self.df.ix[self.cursor:self.cursor+n-1]\n",
    "        self.cursor += n\n",
    "        \n",
    "        maxlen = max_len \n",
    "        x = np.zeros([n, maxlen], dtype=np.int32) # empty container.\n",
    "        y = np.zeros([n, maxlen], dtype=np.int32)\n",
    "        for i, (x_i,y_i) in enumerate(zip(x,y)):\n",
    "            x_i[:res['seq_len'].values[i]] = res['X'].values[i] # only fill where there are sequence values.\n",
    "            y_i[:res['seq_len'].values[i]] = res['Y'].values[i]\n",
    "        \n",
    "        return x, y, res['seq_len']"
   ]
  },
  {
   "cell_type": "markdown",
   "metadata": {},
   "source": [
    "### B. MODEL (BI-LSTM)"
   ]
  },
  {
   "cell_type": "code",
   "execution_count": 59,
   "metadata": {
    "collapsed": false
   },
   "outputs": [],
   "source": [
    "# HOUSE CLEANING\n",
    "\n",
    "def reset_graph():\n",
    "    if 'sess' in globals() and sess:\n",
    "        sess.close()\n",
    "    tf.reset_default_graph()\n",
    "# Clean existing graph before start.\n",
    "reset_graph()\n",
    "\n",
    "# CONFIGS\n",
    "\n",
    "num_epochs = 2\n",
    "state_size = 100 # i.e. dimension of hidden layer.\n",
    "num_classes = label_vocabulary_size\n",
    "batch_size = 100\n",
    "\n",
    "# DEFINE GRAPH\n",
    "\n",
    "# Inputs\n",
    "batchX_placeholder = tf.placeholder(tf.float32, [batch_size, max_len])\n",
    "batchY_placeholder = tf.placeholder(tf.int32, [batch_size, max_len])\n",
    "\n",
    "# LSTM states\n",
    "#   cell state: memory cell.\n",
    "#   hidden state: just the same hidden layer as in simple RNN.\n",
    "#   fwd & bwd need to both take the same init.\n",
    "cell_state = tf.placeholder(tf.float32, [batch_size, state_size])\n",
    "hidden_state = tf.placeholder(tf.float32, [batch_size, state_size])\n",
    "init_state = tf.nn.rnn_cell.LSTMStateTuple(cell_state, hidden_state) \n",
    "    # NB: init_state per se is not the tensor to be trained\n",
    "    #     it is cell_state & hidden_state!\n",
    "\n",
    "# Unpack data to slices (shape=(batch_size,1), 1 for one-hot size) across batch members\n",
    "#   cf. tf.unpack?\n",
    "inputs_series = tf.split(1, max_len, batchX_placeholder)\n",
    "labels_series = tf.unpack(batchY_placeholder, axis=1)\n",
    "# Build Bi-LSTM pipeline: state-state concatenation\n",
    "with tf.variable_scope('Bi-LSTM'): # not a must. added for the convenience of tensorboard visualization.\n",
    "    fwd_cell = tf.nn.rnn_cell.BasicLSTMCell(state_size)\n",
    "    bwd_cell = tf.nn.rnn_cell.BasicLSTMCell(state_size)\n",
    "    states_series, fwd_current_state, bwd_current_state = tf.nn.bidirectional_rnn(fwd_cell, bwd_cell, inputs_series, \n",
    "                                                                                  initial_state_fw=init_state,\n",
    "                                                                                  initial_state_bw=init_state)\n",
    "# Forward pass\n",
    "# Projection to output space\n",
    "#   NB: these are same as W2, b2 above. now the to-embedding projection is automatic by Tensorflow.\n",
    "with tf.variable_scope('Output'):\n",
    "    W = tf.Variable(np.random.rand(state_size*2, num_classes),dtype=tf.float32) # *2: combined weights for fwd & bwd.\n",
    "    b = tf.Variable(np.zeros((1,num_classes)), dtype=tf.float32)\n",
    "    logits_series = [tf.matmul(state, W) + b for state in states_series] \n",
    "    predictions_series = [tf.nn.softmax(logits) for logits in logits_series]\n",
    "# Evaluation\n",
    "with tf.variable_scope('Evaluation'):\n",
    "    correct = [tf.equal(tf.argmax(pred,1), tf.cast(true,tf.int64)) \n",
    "               for pred,true in zip(predictions_series, labels_series)]\n",
    "    accuracy = tf.reduce_mean(tf.cast(correct, tf.float32))\n",
    "    # Loss function\n",
    "    losses = [tf.nn.sparse_softmax_cross_entropy_with_logits(logits, labels) \n",
    "              for logits, labels in zip(logits_series,labels_series)]\n",
    "    total_loss = tf.reduce_mean(losses)\n",
    "# Set training method\n",
    "train_step = tf.train.AdagradOptimizer(1e-3).minimize(total_loss)"
   ]
  },
  {
   "cell_type": "markdown",
   "metadata": {},
   "source": [
    "##### TENSORBOARD"
   ]
  },
  {
   "cell_type": "code",
   "execution_count": 60,
   "metadata": {
    "collapsed": false,
    "scrolled": true
   },
   "outputs": [],
   "source": [
    "# Create a summary for our cost and accuracy\n",
    "#   NB: rerun the previous block to clear existing summaries\n",
    "# TensorBoard will save the stats and graph to logs_path, then\n",
    "#   do tensorboard --logdir=/Users/jacobsw/Desktop/UNIV/SPRING_2017/LIN389C_RSCH_COMPLING/CODE/TENSORBOARD/ --port=6006\n",
    "#   in terminal to get a local host to TensorBoard's brower interface.\n",
    "logs_path = '/Users/jacobsw/Desktop/UNIV/SPRING_2017/LIN389C_RSCH_COMPLING/CODE/TENSORBOARD/'\n",
    "tf.summary.scalar(\"Loss\", total_loss)\n",
    "tf.summary.scalar(\"Accuracy\", accuracy)\n",
    "summary_op = tf.summary.merge_all()"
   ]
  },
  {
   "cell_type": "code",
   "execution_count": 72,
   "metadata": {
    "collapsed": false
   },
   "outputs": [
    {
     "name": "stdout",
     "output_type": "stream",
     "text": [
      "Avg Training Loss at 100 : 1.19932\n",
      "Avg Training Accuracy at 100 : 0.866535\n",
      "Avg Validation Loss: 0.522752\n",
      "Avg Validation Accuracy: 0.925937\n",
      "\n",
      "Avg Training Loss at 200 : 0.859387\n",
      "Avg Training Accuracy at 200 : 0.883769\n",
      "Avg Validation Loss: 0.352614\n",
      "Avg Validation Accuracy: 0.929384\n",
      "\n",
      "Avg Training Loss at 300 : 0.710504\n",
      "Avg Training Accuracy at 300 : 0.890864\n",
      "Avg Validation Loss: 0.29721\n",
      "Avg Validation Accuracy: 0.929576\n",
      "\n",
      "Avg Training Loss at 400 : 0.626282\n",
      "Avg Training Accuracy at 400 : 0.894346\n",
      "Avg Validation Loss: 0.269763\n",
      "Avg Validation Accuracy: 0.930841\n",
      "\n",
      "Avg Training Loss at 100 : 0.544777\n",
      "Avg Training Accuracy at 100 : 0.898244\n",
      "Avg Validation Loss: 0.243618\n",
      "Avg Validation Accuracy: 0.932508\n",
      "\n",
      "Avg Training Loss at 200 : 0.510426\n",
      "Avg Training Accuracy at 200 : 0.900081\n",
      "Avg Validation Loss: 0.231697\n",
      "Avg Validation Accuracy: 0.933298\n",
      "\n",
      "Avg Training Loss at 300 : 0.483169\n",
      "Avg Training Accuracy at 300 : 0.901641\n",
      "Avg Validation Loss: 0.222073\n",
      "Avg Validation Accuracy: 0.933826\n",
      "\n",
      "Avg Training Loss at 400 : 0.461394\n",
      "Avg Training Accuracy at 400 : 0.902786\n",
      "Avg Validation Loss: 0.214297\n",
      "Avg Validation Accuracy: 0.93427\n",
      "\n",
      "Final Training Loss: 0.45063\n",
      "Final Training Accuracy: 0.903348\n",
      "Final Test Loss: 0.267747\n",
      "Final Test Accuracy: 0.9155\n",
      "CPU times: user 33min 7s, sys: 4min 42s, total: 37min 49s\n",
      "Wall time: 8min 10s\n"
     ]
    }
   ],
   "source": [
    "%%time\n",
    "\n",
    "with tf.Session() as sess:\n",
    "    \n",
    "    # Initialize graph\n",
    "    sess.run(tf.global_variables_initializer())\n",
    "    \n",
    "    # Add a summary writer to record metrics\n",
    "    writer = tf.summary.FileWriter(logs_path, graph=sess.graph)\n",
    "    \n",
    "    # Create data readers\n",
    "    tr = FullPaddedDataIterator(df_train)\n",
    "    \n",
    "    # Record keepers\n",
    "    tr_losses, tr_accuracies = [], []  \n",
    "    global_step = 0 # tracking overall steps, for recording stats.\n",
    "    step = 0 # tracking within-epoch steps, for notifying validation after defined steps.\n",
    "    current_epoch = 0\n",
    "    # Training\n",
    "    cell_state_ = np.zeros((batch_size, state_size))\n",
    "    hidden_state_ = np.zeros((batch_size, state_size))\n",
    "    \n",
    "    while current_epoch < num_epochs:\n",
    "        global_step += 1\n",
    "        step += 1\n",
    "        tr_x,tr_y,_ = tr.next_batch(batch_size) # _ for sequence length. not used yet.\n",
    "        train_loss_, train_step_, init_state_, train_accuracy_, train_summary_ = sess.run(\n",
    "            [total_loss, train_step, init_state, accuracy, summary_op],\n",
    "             feed_dict = {batchX_placeholder:tr_x,\n",
    "                          batchY_placeholder:tr_y,\n",
    "                          cell_state:cell_state_,\n",
    "                          hidden_state:hidden_state_}\n",
    "            ) # NB: in decoding bidirectional networks, ALWAYS feed cell_state & hidden_state rather than init_state!\n",
    "        tr_losses.append(train_loss_)\n",
    "        tr_accuracies.append(train_accuracy_)\n",
    "        if step % 100 == 0:\n",
    "            print \"Avg Training Loss at\", step, ':', np.mean(tr_losses)\n",
    "            print \"Avg Training Accuracy at\", step, ':', np.mean(tr_accuracies)\n",
    "            va_losses, va_accuracies = [], []\n",
    "            va = FullPaddedDataIterator(df_valid)\n",
    "            while va.epochs==0:\n",
    "                va_x,va_y,_ = va.next_batch(batch_size) # evaluate all.\n",
    "                valid_loss_, valid_accuracy_, init_state_ = sess.run(\n",
    "                    [total_loss, accuracy, init_state],\n",
    "                     feed_dict = {batchX_placeholder:va_x,\n",
    "                                  batchY_placeholder:va_y,\n",
    "                                  cell_state:cell_state_,\n",
    "                                  hidden_state:hidden_state_}\n",
    "                    )\n",
    "                va_losses.append(valid_loss_)\n",
    "                va_accuracies.append(valid_accuracy_)\n",
    "            # Record validation summary at step\n",
    "            avg_va_loss_, avg_va_accuracy_ = np.mean(va_losses), np.mean(va_accuracies)\n",
    "            valid_summary_ = tf.Summary()\n",
    "            valid_summary_.ParseFromString(train_summary_) # add training stats (always add training stats).\n",
    "            valid_summary_.value.add(tag='Validation Loss', simple_value=(float)(avg_va_loss_))\n",
    "            valid_summary_.value.add(tag='Validation Accuracy', simple_value=(float)(avg_va_accuracy_))\n",
    "            writer.add_summary(valid_summary_, global_step)\n",
    "            print \"Avg Validation Loss:\", avg_va_loss_\n",
    "            print \"Avg Validation Accuracy:\", avg_va_accuracy_\n",
    "            print\n",
    "        else:\n",
    "            writer.add_summary(train_summary_, global_step)\n",
    "        if tr.epochs > current_epoch: # go to the next epoch.\n",
    "            current_epoch += 1\n",
    "            step = 0\n",
    "    te = FullPaddedDataIterator(df_test)\n",
    "    while te.epochs==0:\n",
    "        te_x,te_y,_ = te.next_batch(batch_size) \n",
    "        test_loss_, test_accuracy_, init_state_ = sess.run(\n",
    "            [total_loss, accuracy, init_state],\n",
    "             feed_dict = {batchX_placeholder:te_x,\n",
    "                          batchY_placeholder:te_y,\n",
    "                          cell_state:cell_state_,\n",
    "                          hidden_state:hidden_state_}\n",
    "            )\n",
    "    print \"Final Training Loss:\", np.mean(tr_losses)\n",
    "    print \"Final Training Accuracy:\", np.mean(tr_accuracies)   \n",
    "    print \"Final Test Loss:\", np.mean(test_loss_)\n",
    "    print \"Final Test Accuracy:\", np.mean(test_accuracy_)"
   ]
  },
  {
   "cell_type": "code",
   "execution_count": 74,
   "metadata": {
    "collapsed": false
   },
   "outputs": [
    {
     "data": {
      "image/png": "[encoded data removed]",
      "text/plain": [
       "<matplotlib.figure.Figure at 0x1b7a57b10>"
      ]
     },
     "metadata": {},
     "output_type": "display_data"
    }
   ],
   "source": [
    "# That which show up in TensorBoard \"Scalars\"\n",
    "#   NB: 4 images are stitched together by me. They are individual interactive graphs in browser.\n",
    "graph = mpimg.imread(logs_path+\"tensorboard_graph.png\")\n",
    "plt.figure(figsize=(10,20))\n",
    "plt.imshow(graph) # ignore the border ticks, these are counting pixels.\n",
    "plt.show()"
   ]
  },
  {
   "cell_type": "markdown",
   "metadata": {},
   "source": [
    "## II. Implementation 4g"
   ]
  },
  {
   "cell_type": "code",
   "execution_count": null,
   "metadata": {
    "collapsed": true
   },
   "outputs": [],
   "source": [
    "# HOUSE CLEANING\n",
    "\n",
    "def reset_graph():\n",
    "    if 'sess' in globals() and sess:\n",
    "        sess.close()\n",
    "    tf.reset_default_graph()\n",
    "# Clean existing graph before start.\n",
    "reset_graph()\n",
    "\n",
    "# CONFIGS\n",
    "\n",
    "num_epochs = 2\n",
    "state_size = 100 # i.e. dimension of hidden layer.\n",
    "num_classes = label_vocabulary_size\n",
    "batch_size = 100\n",
    "\n",
    "# DEFINE GRAPH\n",
    "\n",
    "# Inputs\n",
    "batchX_placeholder = tf.placeholder(tf.float32, [batch_size, max_len])\n",
    "batchY_placeholder = tf.placeholder(tf.int32, [batch_size, max_len])\n",
    "batchSeqlen_placeholder = tf.placeholder(tf.int32, [batch_size])\n",
    "\n",
    "# LSTM states\n",
    "#   cell state: memory cell.\n",
    "#   hidden state: just the same hidden layer as in simple RNN.\n",
    "#   fwd & bwd need to both take the same init.\n",
    "cell_state = tf.placeholder(tf.float32, [batch_size, state_size])\n",
    "hidden_state = tf.placeholder(tf.float32, [batch_size, state_size])\n",
    "init_state = tf.nn.rnn_cell.LSTMStateTuple(cell_state, hidden_state)\n",
    "\n",
    "# Projection to output space\n",
    "#   NB: these are same as W2, b2 above. now the to-embedding projection is automatic by Tensorflow.\n",
    "W = tf.Variable(np.random.rand(state_size*2, num_classes),dtype=tf.float32)\n",
    "b = tf.Variable(np.zeros((1,num_classes)), dtype=tf.float32)\n",
    "\n",
    "# Unpack data to slices (shape=(batch_size,1), 1 for one-hot size) across batch members\n",
    "#   cf. tf.unpack?\n",
    "# Build Bi-LSTM pipeline: state-state concatenation\n",
    "fwd_cell = tf.nn.rnn_cell.BasicLSTMCell(state_size)\n",
    "bwd_cell = tf.nn.rnn_cell.BasicLSTMCell(state_size)\n",
    "# Dynamic RNN architecture\n",
    "#   tf.expand_dims(batchX_placeholder, -1): dynamic_rnn takes input with [batch_size, max_len, input_size],\n",
    "#                                           we thus add 1 extra dimension [input_size].\n",
    "states_series_tuple, current_states_tuple = tf.nn.bidirectional_dynamic_rnn(fwd_cell, bwd_cell, \n",
    "                                                                            tf.expand_dims(batchX_placeholder, -1),\n",
    "                                                                            sequence_length=batchSeqlen_placeholder,\n",
    "                                                                            initial_state_fw=init_state,\n",
    "                                                                            initial_state_bw=init_state)\n",
    "fwd_states_series, bwd_states_series = states_series_tuple\n",
    "fwd_states_series = tf.reshape(fwd_states_series, [-1, state_size]) # shape: [batch_size*max_len, state_size].\n",
    "bwd_states_series = tf.reshape(bwd_states_series, [-1, state_size])\n",
    "states_series = tf.concat(1, [fwd_states_series, bwd_states_series]) # concat along the dim of state_size.\n",
    "\n",
    "# Forward pass \n",
    "logits = tf.matmul(states_series, W) + b\n",
    "labels = tf.reshape(batchY_placeholder, [-1]) # make labels into one long list.\n",
    "logits_series = tf.unpack(tf.reshape(logits, [batch_size, max_len, num_classes]), axis=1)\n",
    "predictions_series = [tf.nn.softmax(logit) for logit in logits_series]\n",
    "# Evaluation\n",
    "preds_list = [tf.argmax(pred,1) for pred in predictions_series]\n",
    "preds_concat = tf.concat(0, preds_list) # concatenate batch predictions into one list to match the format of labels.\n",
    "correct = tf.equal(preds_concat, tf.cast(labels,tf.int64))\n",
    "accuracy = tf.reduce_mean(tf.cast(correct, tf.float32))\n",
    "# Loss function\n",
    "losses = tf.nn.sparse_softmax_cross_entropy_with_logits(logits, labels)\n",
    "total_loss = tf.reduce_mean(losses)\n",
    "# Set training method\n",
    "train_step = tf.train.AdagradOptimizer(1e-4).minimize(total_loss)"
   ]
  },
  {
   "cell_type": "code",
   "execution_count": null,
   "metadata": {
    "collapsed": true
   },
   "outputs": [],
   "source": [
    "%%time\n",
    "\n",
    "with tf.Session() as sess:\n",
    "    # Initialize graph\n",
    "    sess.run(tf.global_variables_initializer())\n",
    "    # Create data readers\n",
    "    tr = FullPaddedDataIterator(df_train)\n",
    "    te = FullPaddedDataIterator(df_test)\n",
    "    # Record keepers\n",
    "    tr_losses, te_losses = [], []\n",
    "    tr_accuracies, te_accuracies = [], []    \n",
    "    step = 0\n",
    "    current_epoch = 0\n",
    "    # Training\n",
    "    cell_state_ = np.zeros((batch_size, state_size))\n",
    "    hidden_state_ = np.zeros((batch_size, state_size))\n",
    "    \n",
    "    while current_epoch < num_epochs:\n",
    "        step += 1\n",
    "        tr_x,tr_y,_ = tr.next_batch(batch_size) # _ for sequence length. not used yet.\n",
    "        total_loss_, train_step_, init_state_, accuracy_ = sess.run(\n",
    "            [total_loss, train_step, init_state, accuracy],\n",
    "            feed_dict = {batchX_placeholder:tr_x,\n",
    "                         batchY_placeholder:tr_y,\n",
    "                         batchSeqlen_placeholder:te_seqlen,\n",
    "                         cell_state:cell_state_,\n",
    "                         hidden_state:hidden_state_}\n",
    "            )\n",
    "        tr_losses.append(total_loss_)\n",
    "        tr_accuracies.append(accuracy_)\n",
    "        if step % 100 == 0:\n",
    "            print \"Avg Training Loss at\", step, ':', np.mean(tr_losses)\n",
    "            print \"Avg Training Accuracy at\", step, ':', np.mean(tr_accuracies)\n",
    "            te_x,te_y,_ = te.next_batch(batch_size) # randomly sample 100 to evaluate.\n",
    "            total_loss_, train_step_, init_state_, accuracy_ = sess.run(\n",
    "                [total_loss, train_step, init_state, accuracy],\n",
    "                feed_dict = {batchX_placeholder:te_x,\n",
    "                             batchY_placeholder:te_y,\n",
    "                             batchSeqlen_placeholder:te_seqlen,\n",
    "                             cell_state:cell_state_,\n",
    "                             hidden_state:hidden_state_}\n",
    "                )\n",
    "            te_losses.append(total_loss_)\n",
    "            te_accuracies.append(accuracy_)\n",
    "            print \"Avg Test Loss at\", step, ':', np.mean(te_losses)\n",
    "            print \"Avg Test Accuracy at\", step, ':', np.mean(te_accuracies)\n",
    "            print\n",
    "        if tr.epochs > current_epoch: # go to the next epoch.\n",
    "            current_epoch += 1\n",
    "            step = 0\n",
    "    print \"Final Avg Training Loss:\", np.mean(tr_losses)\n",
    "    print \"Final Avg Training Accuracy:\", np.mean(tr_accuracies)   \n",
    "    print \"Final Avg Test Loss:\", np.mean(te_losses)\n",
    "    print \"Final Avg Test Accuracy:\", np.mean(te_accuracies)"
   ]
  },
  {
   "cell_type": "code",
   "execution_count": null,
   "metadata": {
    "collapsed": true
   },
   "outputs": [],
   "source": []
  },
  {
   "cell_type": "code",
   "execution_count": null,
   "metadata": {
    "collapsed": true
   },
   "outputs": [],
   "source": []
  },
  {
   "cell_type": "code",
   "execution_count": null,
   "metadata": {
    "collapsed": true
   },
   "outputs": [],
   "source": []
  },
  {
   "cell_type": "code",
   "execution_count": null,
   "metadata": {
    "collapsed": true
   },
   "outputs": [],
   "source": []
  },
  {
   "cell_type": "code",
   "execution_count": null,
   "metadata": {
    "collapsed": true
   },
   "outputs": [],
   "source": []
  },
  {
   "cell_type": "code",
   "execution_count": null,
   "metadata": {
    "collapsed": true
   },
   "outputs": [],
   "source": []
  },
  {
   "cell_type": "code",
   "execution_count": null,
   "metadata": {
    "collapsed": true
   },
   "outputs": [],
   "source": []
  },
  {
   "cell_type": "code",
   "execution_count": null,
   "metadata": {
    "collapsed": true
   },
   "outputs": [],
   "source": []
  },
  {
   "cell_type": "code",
   "execution_count": null,
   "metadata": {
    "collapsed": true
   },
   "outputs": [],
   "source": []
  },
  {
   "cell_type": "code",
   "execution_count": null,
   "metadata": {
    "collapsed": true
   },
   "outputs": [],
   "source": []
  }
 ],
 "metadata": {
  "kernelspec": {
   "display_name": "Python 2",
   "language": "python",
   "name": "python2"
  },
  "language_info": {
   "codemirror_mode": {
    "name": "ipython",
    "version": 2
   },
   "file_extension": ".py",
   "mimetype": "text/x-python",
   "name": "python",
   "nbconvert_exporter": "python",
   "pygments_lexer": "ipython2",
   "version": "2.7.11"
  }
 },
 "nbformat": 4,
 "nbformat_minor": 0
}
