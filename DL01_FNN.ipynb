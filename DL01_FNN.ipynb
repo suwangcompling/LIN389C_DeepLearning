{
 "cells": [
  {
   "cell_type": "markdown",
   "metadata": {},
   "source": [
    "# DeepLearning 01. Feedforward Neural Network (FNN) from Scratch\n",
    "\n",
    "* **Source**: Michael Nielson's book on neural nets (http://neuralnetworksanddeeplearning.com/chap1.html).\n",
    "* **Contribution**: \n",
    "    * Hopefully more readable code annotation.\n",
    "    * Extension to batch-vectorized implementation."
   ]
  },
  {
   "cell_type": "markdown",
   "metadata": {},
   "source": [
    "## I. Implementation 1\n",
    "\n",
    "* Cost: Quadratic\n",
    "* Library: Numpy only"
   ]
  },
  {
   "cell_type": "code",
   "execution_count": 3,
   "metadata": {
    "collapsed": true
   },
   "outputs": [],
   "source": [
    "import numpy as np\n",
    "import random, os, sys"
   ]
  },
  {
   "cell_type": "code",
   "execution_count": 4,
   "metadata": {
    "collapsed": true
   },
   "outputs": [],
   "source": [
    "def sigmoid(z):\n",
    "    \"\"\"\n",
    "    Elementwise sigmoid conversion.\n",
    "    \n",
    "    Arguments:\n",
    "    z: Vector computed from (weight * x + bias).\n",
    "    \n",
    "    Returns sigmoid converted vector of the same shape.\n",
    "    \"\"\"\n",
    "    return 1.0 / (1.0+np.exp(-z)) \n",
    "\n",
    "def sigmoid_prime(z): \n",
    "    \"\"\"\n",
    "    Computes the derivative of sigmoid function.\n",
    "    \n",
    "    Arguments:\n",
    "    z: Vector computed from (weight * x + bias).\n",
    "    \n",
    "    Returns the derivative vector for sigmoid(z).\n",
    "    \"\"\"\n",
    "    return sigmoid(z) * (1-sigmoid(z))"
   ]
  },
  {
   "cell_type": "code",
   "execution_count": 98,
   "metadata": {
    "collapsed": true
   },
   "outputs": [],
   "source": [
    "class NNNumpy:\n",
    "    \"\"\"\n",
    "    Batch-vectorized implementation of Michael Nielson's FNN network.\n",
    "    \"\"\"\n",
    "    \n",
    "    def __init__(self, sizes): \n",
    "        \"\"\"\n",
    "        Initialize parameters for FNN.\n",
    "        \n",
    "        Arguments:\n",
    "        sizes: List of sizes of layers of FNN.\n",
    "        \"\"\"\n",
    "        self.numLayers = len(sizes)\n",
    "        self.sizes = sizes\n",
    "        self.biases = [np.random.randn(y,1) for y in sizes[1:]] \n",
    "        self.weights = [np.random.randn(y,x) for x,y in zip(sizes[:-1],sizes[1:])]\n",
    "     \n",
    "    def forward_propagation(self, a):\n",
    "        \"\"\"\n",
    "        Feedforward step, feed input through FNN to obtain output.\n",
    "        \n",
    "        Arguments:\n",
    "        a: Input vector.\n",
    "        \n",
    "        Returns output vector.\n",
    "        \"\"\"\n",
    "        for b, w in zip(self.biases, self.weights):\n",
    "            a = sigmoid(np.dot(w, a) + b)\n",
    "        return a\n",
    "    \n",
    "    def SGD(self, train_data, epochs, batchSize, lr, test=None):\n",
    "        \"\"\"\n",
    "        Stochastic Gradient Descent with configurable batch size.\n",
    "        \n",
    "        Arguments:\n",
    "        train_data: List of training data points.\n",
    "        epochs:     Number of epochs to be run.\n",
    "        batchSize:  Size of minibatch.\n",
    "        lr:         Learning rate.\n",
    "        test:       List of test data points, for validation. Because no tuning of hyperparams will be performed,\n",
    "                    test data points are used for validation, monitoring performance improvement at each epoch.\n",
    "        \"\"\"\n",
    "        if test: nTest = len(test)\n",
    "        n = len(train_data)\n",
    "        for j in xrange(epochs):\n",
    "            random.shuffle(train_data)\n",
    "            batches = [ train_data[k:k+batchSize] for k in xrange(0, n, batchSize) ]\n",
    "            for batch in batches:\n",
    "                self.update_batch(batch, lr)\n",
    "            if test:\n",
    "                print \"Epoch {0}: {1} / {2}\".format(j, self.evaluate(test), nTest)\n",
    "            else: \n",
    "                print \"Epoch {0} complete\".format(j)\n",
    "    \n",
    "    def update_batch(self, batch, lr):\n",
    "        \"\"\"\n",
    "        Update weights and biases for the layers of FNN with a minibatch.\n",
    "        \n",
    "        Arguments:\n",
    "        batch: List of training data points in minibatch.\n",
    "        lr:    Learning rate.\n",
    "        \"\"\"\n",
    "        bGrads = [ np.zeros(b.shape) for b in self.biases ]\n",
    "        wGrads = [ np.zeros(w.shape) for w in self.weights ]\n",
    "\n",
    "        x_batch = np.hstack([x for x,y in batch])\n",
    "        y_batch = np.hstack([y for x,y in batch])\n",
    "\n",
    "        bGradDeltas, wGradDeltas = self.back_propagation(x_batch, y_batch)\n",
    "\n",
    "        bGradDeltas = [bGradDelta.sum(axis=1).reshape(b.shape) \n",
    "                       for bGradDelta,b in zip(bGradDeltas,self.biases)] \n",
    "        \n",
    "        bGrads = [bGrad+bGradDelta for bGrad,bGradDelta in zip(bGrads,bGradDeltas)]\n",
    "        wGrads = [wGrad+wGradDelta for wGrad,wGradDelta in zip(wGrads,wGradDeltas)]\n",
    "\n",
    "        self.biases = [ b-(lr/len(batch))*bGrad for b,bGrad in zip(self.biases,bGrads) ]\n",
    "        self.weights = [ w-(lr/len(batch))*wGrad for w,wGrad in zip(self.weights,wGrads) ]\n",
    "    \n",
    "    def back_propagation(self, x_batch, y_batch): \n",
    "        \"\"\"\n",
    "        Backpropagation step, propagates errors from output end.\n",
    "        \n",
    "        Arguments:\n",
    "        x_batch: List of training data inputs.\n",
    "        y_batch: List of training data true classes (binarized).\n",
    "        \n",
    "        Returns gradients of weights and biases.\n",
    "        \"\"\"\n",
    "        bGrads = [ np.zeros(b.shape) for b in self.biases ]\n",
    "        wGrads = [ np.zeros(w.shape) for w in self.weights ]\n",
    "\n",
    "        activation = x_batch                                                     \n",
    "        activations = [x_batch]                          \n",
    "        zs = []                                             \n",
    "        for b,w in zip(self.biases, self.weights):                               \n",
    "            z = np.dot(w, activation) + b                                        \n",
    "            zs.append(z)                                                         \n",
    "            activation = sigmoid(z)                                              \n",
    "            activations.append(activation)                                       \n",
    "\n",
    "        delta = self.cost_derivative(activations[-1], y_batch) * sigmoid_prime(zs[-1])\n",
    "                                                                                 \n",
    "        bGrads[-1] = delta                                                                                                                           \n",
    "        wGrads[-1] = np.dot(delta, activations[-2].transpose())                   \n",
    "\n",
    "        for l in xrange(2, self.numLayers):                                      \n",
    "            z = zs[-l]                                                           \n",
    "            sp = sigmoid_prime(z)    \n",
    "            delta = np.dot(self.weights[-l+1].transpose(), delta) * sp                                                                            \n",
    "            bGrads[-l] = delta                                             \n",
    "            wGrads[-l] = np.dot(delta, activations[-l-1].transpose())            \n",
    "            \n",
    "        return (bGrads, wGrads)                                                  \n",
    "    \n",
    "    def evaluate(self, test):\n",
    "        \"\"\"\n",
    "        Evaluate function for test data as validation.\n",
    "        \n",
    "        Arguments:\n",
    "        test: List of test data points.\n",
    "        \n",
    "        Returns accuracy on the validation.\n",
    "        \"\"\"\n",
    "        testResults = [ (np.argmax(self.forward_propagation(x)), y) for (x, y) in test ]\n",
    "        return sum(int(x==y) for (x,y) in testResults)\n",
    "    \n",
    "    def cost_derivative(self, outputActivations, y):\n",
    "        \"\"\"\n",
    "        Computes error on the output end.\n",
    "        \n",
    "        Arguments:\n",
    "        outputActivations: Output of FNN.\n",
    "        y:                 True classes (binarized).\n",
    "        \n",
    "        Returns error matrix.\n",
    "        \"\"\"\n",
    "        return (outputActivations-y)\n"
   ]
  },
  {
   "cell_type": "code",
   "execution_count": 145,
   "metadata": {
    "collapsed": true
   },
   "outputs": [],
   "source": [
    "# LOAD DATA\n",
    "\n",
    "path = \"/Users/jacobsw/Desktop/CODER/IMPLEMENTATION_CAMP/BASIC_TOPICS/NN/DATA/neural-networks-and-deep-learning-master/src\"\n",
    "os.chdir(path)\n",
    "sys.path.append(path)\n",
    "import mnist_loader\n",
    "train_data, dev_data, test_data = mnist_loader.load_data_wrapper()"
   ]
  },
  {
   "cell_type": "code",
   "execution_count": 104,
   "metadata": {
    "collapsed": false,
    "scrolled": false
   },
   "outputs": [
    {
     "name": "stdout",
     "output_type": "stream",
     "text": [
      "Epoch 0: 8981 / 10000\n",
      "Epoch 1: 9221 / 10000\n",
      "Epoch 2: 9299 / 10000\n",
      "Epoch 3: 9346 / 10000\n",
      "Epoch 4: 9372 / 10000\n",
      "Epoch 5: 9382 / 10000\n",
      "Epoch 6: 9405 / 10000\n",
      "Epoch 7: 9357 / 10000\n",
      "Epoch 8: 9427 / 10000\n",
      "Epoch 9: 9411 / 10000\n",
      "Epoch 10: 9448 / 10000\n",
      "Epoch 11: 9436 / 10000\n",
      "Epoch 12: 9452 / 10000\n",
      "Epoch 13: 9459 / 10000\n",
      "Epoch 14: 9480 / 10000\n",
      "Epoch 15: 9469 / 10000\n",
      "Epoch 16: 9477 / 10000\n",
      "Epoch 17: 9493 / 10000\n",
      "Epoch 18: 9466 / 10000\n",
      "Epoch 19: 9494 / 10000\n",
      "Epoch 20: 9481 / 10000\n",
      "Epoch 21: 9468 / 10000\n",
      "Epoch 22: 9491 / 10000\n",
      "Epoch 23: 9458 / 10000\n",
      "Epoch 24: 9471 / 10000\n",
      "Epoch 25: 9502 / 10000\n",
      "Epoch 26: 9502 / 10000\n",
      "Epoch 27: 9483 / 10000\n",
      "Epoch 28: 9485 / 10000\n",
      "Epoch 29: 9485 / 10000\n",
      "CPU times: user 1min 10s, sys: 7.05 s, total: 1min 17s\n",
      "Wall time: 1min 13s\n"
     ]
    }
   ],
   "source": [
    "%%time\n",
    "fnn = NNNumpy([784,30,10])\n",
    "fnn.SGD(train_data,30,10,3.0,test=test_data)"
   ]
  },
  {
   "cell_type": "markdown",
   "metadata": {},
   "source": [
    "## II. Implementation 2\n",
    "\n",
    "* Cost: Quadratic\n",
    "* Library: Tensorflow"
   ]
  },
  {
   "cell_type": "code",
   "execution_count": 105,
   "metadata": {
    "collapsed": true
   },
   "outputs": [],
   "source": [
    "import tensorflow as tf\n",
    "from tensorflow import placeholder, Variable\n",
    "from tensorflow.examples.tutorials.mnist import input_data"
   ]
  },
  {
   "cell_type": "code",
   "execution_count": 113,
   "metadata": {
    "collapsed": false
   },
   "outputs": [
    {
     "name": "stdout",
     "output_type": "stream",
     "text": [
      "Extracting /Users/jacobsw/Desktop/UNIV/SPRING_2017/LIN389C_RSCH_COMPLING/CODE/MNIST/train-images-idx3-ubyte.gz\n",
      "Extracting /Users/jacobsw/Desktop/UNIV/SPRING_2017/LIN389C_RSCH_COMPLING/CODE/MNIST/train-labels-idx1-ubyte.gz\n",
      "Extracting /Users/jacobsw/Desktop/UNIV/SPRING_2017/LIN389C_RSCH_COMPLING/CODE/MNIST/t10k-images-idx3-ubyte.gz\n",
      "Extracting /Users/jacobsw/Desktop/UNIV/SPRING_2017/LIN389C_RSCH_COMPLING/CODE/MNIST/t10k-labels-idx1-ubyte.gz\n"
     ]
    }
   ],
   "source": [
    "# LOAD DATA\n",
    "\n",
    "path = \"/Users/jacobsw/Desktop/UNIV/SPRING_2017/LIN389C_RSCH_COMPLING/CODE/MNIST/\"\n",
    "mnist = input_data.read_data_sets(path, one_hot=True)"
   ]
  },
  {
   "cell_type": "code",
   "execution_count": 130,
   "metadata": {
    "collapsed": true
   },
   "outputs": [],
   "source": [
    "# SET CONFIGURATIONS\n",
    "\n",
    "num_train = mnist.train.num_examples\n",
    "num_batchs = num_train / 100\n",
    "num_epochs = 30\n",
    "\n",
    "input_size = mnist.train.images.shape[1]\n",
    "output_size = mnist.train.labels.shape[1]"
   ]
  },
  {
   "cell_type": "code",
   "execution_count": 128,
   "metadata": {
    "collapsed": false,
    "scrolled": false
   },
   "outputs": [
    {
     "name": "stdout",
     "output_type": "stream",
     "text": [
      "Epoch 0 accuracy: 0.9305\n",
      "Epoch 1 accuracy: 0.9459\n",
      "Epoch 2 accuracy: 0.9571\n",
      "Epoch 3 accuracy: 0.9606\n",
      "Epoch 4 accuracy: 0.9618\n",
      "Epoch 5 accuracy: 0.9602\n",
      "Epoch 6 accuracy: 0.9577\n",
      "Epoch 7 accuracy: 0.9638\n",
      "Epoch 8 accuracy: 0.9631\n",
      "Epoch 9 accuracy: 0.9633\n",
      "Epoch 10 accuracy: 0.9609\n",
      "Epoch 11 accuracy: 0.963\n",
      "Epoch 12 accuracy: 0.967\n",
      "Epoch 13 accuracy: 0.9653\n",
      "Epoch 14 accuracy: 0.9625\n",
      "Epoch 15 accuracy: 0.9635\n",
      "Epoch 16 accuracy: 0.9629\n",
      "Epoch 17 accuracy: 0.9632\n",
      "Epoch 18 accuracy: 0.9647\n",
      "Epoch 19 accuracy: 0.9656\n",
      "Epoch 20 accuracy: 0.9639\n",
      "Epoch 21 accuracy: 0.9633\n",
      "Epoch 22 accuracy: 0.9638\n",
      "Epoch 23 accuracy: 0.9654\n",
      "Epoch 24 accuracy: 0.9604\n",
      "Epoch 25 accuracy: 0.9654\n",
      "Epoch 26 accuracy: 0.9629\n",
      "Epoch 27 accuracy: 0.9639\n",
      "Epoch 28 accuracy: 0.9658\n",
      "Epoch 29 accuracy: 0.9653\n",
      "Final accuracy: 0.9653\n"
     ]
    }
   ],
   "source": [
    "# BUILD COMPUTATIONAL GRAPH\n",
    "\n",
    "# set sizes for input and output\n",
    "x = placeholder(tf.float32, [None, 784]) # None: unspecified input size.\n",
    "y = placeholder(tf.float32, [None, 10])\n",
    "\n",
    "# initialize weights\n",
    "w1 = Variable(tf.truncated_normal([784, 30], stddev=.1))\n",
    "b1 = Variable(tf.truncated_normal([30], stddev=.1))\n",
    "w2 = Variable(tf.truncated_normal([30, 10], stddev=.1))\n",
    "b2 = Variable(tf.truncated_normal([10], stddev=.1))\n",
    "\n",
    "# link input to activations\n",
    "a1 = tf.nn.sigmoid(tf.add(tf.matmul(x, w1), b1))\n",
    "a2 = tf.nn.softmax(tf.add(tf.matmul(a1, w2), b2))\n",
    "\n",
    "# set cost\n",
    "cost = tf.nn.l2_loss(a2 - y)\n",
    "\n",
    "# set optimization option\n",
    "train = tf.train.GradientDescentOptimizer(learning_rate=.1).minimize(cost)\n",
    "\n",
    "# set port for computing accuracy\n",
    "correct_pred = tf.equal(tf.argmax(a2,1), tf.argmax(y,1))\n",
    "accuracy = tf.reduce_mean(tf.cast(correct_pred, tf.float32))\n",
    "\n",
    "# TRAINING\n",
    "\n",
    "with tf.Session() as sess: # tf.Session(): the environment under which tensorflow operates (must have).\n",
    "    # initialize computational graph\n",
    "    sess.run(tf.global_variables_initializer())\n",
    "    for i in xrange(num_epochs):\n",
    "        for _ in xrange(num_batchs):\n",
    "            batch_xs, batch_ys = mnist.train.next_batch(100)\n",
    "            sess.run(train, feed_dict={x: batch_xs, y: batch_ys})\n",
    "        valid_acc = sess.run(accuracy, feed_dict={x: mnist.test.images, y: mnist.test.labels})\n",
    "        print \"Epoch\", i, \"accuracy:\", valid_acc\n",
    "    print \"Final accuracy:\", sess.run(accuracy, feed_dict={x: mnist.test.images, y: mnist.test.labels})"
   ]
  },
  {
   "cell_type": "code",
   "execution_count": null,
   "metadata": {
    "collapsed": true
   },
   "outputs": [],
   "source": []
  }
 ],
 "metadata": {
  "kernelspec": {
   "display_name": "Python 2",
   "language": "python",
   "name": "python2"
  },
  "language_info": {
   "codemirror_mode": {
    "name": "ipython",
    "version": 2
   },
   "file_extension": ".py",
   "mimetype": "text/x-python",
   "name": "python",
   "nbconvert_exporter": "python",
   "pygments_lexer": "ipython2",
   "version": "2.7.11"
  }
 },
 "nbformat": 4,
 "nbformat_minor": 0
}
