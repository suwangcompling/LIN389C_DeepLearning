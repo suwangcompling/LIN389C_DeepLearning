{
 "cells": [
  {
   "cell_type": "markdown",
   "metadata": {},
   "source": [
    "# DeepLearning 02. Convolutional Neural Networks (CNN)\n",
    "\n",
    "* **Implementation 3a**: CNN with Tensorflow (basic)\n",
    "    * *Source*: Tensorflow tutorials (https://www.tensorflow.org/tutorials/mnist/pros/)\n",
    "    * *Contribution*: \n",
    "        * Code structure consistent with previous sections\n",
    "        * Hopefully clearer pipeline\n",
    "\n",
    "* **Implementation 3b**: CNN with Tensorflow (with tuning options)"
   ]
  },
  {
   "cell_type": "code",
   "execution_count": 17,
   "metadata": {
    "collapsed": true
   },
   "outputs": [],
   "source": [
    "import time, random\n",
    "import numpy as np\n",
    "import tensorflow as tf\n",
    "from tensorflow import placeholder, Variable, constant\n",
    "from tensorflow.examples.tutorials.mnist import input_data"
   ]
  },
  {
   "cell_type": "markdown",
   "metadata": {},
   "source": [
    "## I. Implementation 3a"
   ]
  },
  {
   "cell_type": "code",
   "execution_count": 2,
   "metadata": {
    "collapsed": false
   },
   "outputs": [
    {
     "name": "stdout",
     "output_type": "stream",
     "text": [
      "Extracting /Users/jacobsw/Desktop/UNIV/SPRING_2017/LIN389C_RSCH_COMPLING/CODE/MNIST/train-images-idx3-ubyte.gz\n",
      "Extracting /Users/jacobsw/Desktop/UNIV/SPRING_2017/LIN389C_RSCH_COMPLING/CODE/MNIST/train-labels-idx1-ubyte.gz\n",
      "Extracting /Users/jacobsw/Desktop/UNIV/SPRING_2017/LIN389C_RSCH_COMPLING/CODE/MNIST/t10k-images-idx3-ubyte.gz\n",
      "Extracting /Users/jacobsw/Desktop/UNIV/SPRING_2017/LIN389C_RSCH_COMPLING/CODE/MNIST/t10k-labels-idx1-ubyte.gz\n"
     ]
    }
   ],
   "source": [
    "# LOAD DATA\n",
    "\n",
    "path = \"/Users/jacobsw/Desktop/UNIV/SPRING_2017/LIN389C_RSCH_COMPLING/CODE/MNIST/\"\n",
    "mnist = input_data.read_data_sets(path, one_hot=True)"
   ]
  },
  {
   "cell_type": "code",
   "execution_count": 3,
   "metadata": {
    "collapsed": true
   },
   "outputs": [],
   "source": [
    "# HELPER FUNCS\n",
    "\n",
    "def initialize_variable(shape, vtype):\n",
    "    \"\"\"\n",
    "    Initialize for weights or biases (by truncated normal distribution).\n",
    "    \n",
    "    Arguments:\n",
    "    shape: Shape of weight/bias matrix.\n",
    "    vtype: Select weight/bias matrix.\n",
    "    \n",
    "    Returns a tensorflow Variable (tensor) of desired shape with random values. \n",
    "    \"\"\"\n",
    "    return tf.Variable(tf.truncated_normal(shape, stddev=.1)) if vtype=='weight' else \\\n",
    "           tf.constant(.1, shape=shape) # shape: [height, width, input/channel, output/feature_map].\n",
    "    \n",
    "def conv2d(x, W):\n",
    "    \"\"\"\n",
    "    Perform 2D convolution on input matrix.\n",
    "    \n",
    "    Arguments:\n",
    "    x: Input matrix.\n",
    "    W: Shared weights for x.\n",
    "    \n",
    "    Returns output matrix after feature mapping.\n",
    "    \"\"\"\n",
    "    return tf.nn.conv2d(x, W, strides=[1,1,1,1], padding='SAME') \n",
    "        # strides: [num_in_batch, height, width, num_channels]\n",
    "\n",
    "def max_pool_2x2(x):\n",
    "    \"\"\"\n",
    "    Perform 2D max-pooling on input matrix (usually output from convolution operation).\n",
    "    \n",
    "    Arguments:\n",
    "    x: Input matrix.\n",
    "    \n",
    "    Returns output matrix after max-pooling.\n",
    "    \"\"\"\n",
    "    return tf.nn.max_pool(x, ksize=[1,2,2,1], strides=[1,2,2,1], padding='SAME')\n",
    "        # ksize: kernel size, [num_in_batch, height, width, num_channels].\n",
    "        # dimensions need to be the same as strides."
   ]
  },
  {
   "cell_type": "code",
   "execution_count": 4,
   "metadata": {
    "collapsed": true
   },
   "outputs": [],
   "source": [
    "# SET CONFIGS\n",
    "\n",
    "num_train = mnist.train.num_examples\n",
    "num_batchs = num_train // 100\n",
    "num_epochs = 30"
   ]
  },
  {
   "cell_type": "code",
   "execution_count": 7,
   "metadata": {
    "collapsed": true
   },
   "outputs": [],
   "source": [
    "# BUILD GRAPH\n",
    "\n",
    "# set sizes for input and output\n",
    "x = tf.placeholder(tf.float32, shape=[None, 784])\n",
    "y = tf.placeholder(tf.float32, shape=[None, 10])\n",
    "x_image = tf.reshape(x, [-1, 28, 28, 1])\n",
    "\n",
    "# confif conv-layer 1\n",
    "W_conv1 = initialize_variable([5,5,1,32], vtype='weight') # 5 x 5 filter, channel=1 (grayscale), 32 feature maps.\n",
    "b_conv1 = initialize_variable([32], vtype='bias')\n",
    "h_conv1 = tf.nn.relu(tf.add(conv2d(x_image, W_conv1), b_conv1))\n",
    "h_pool1 = max_pool_2x2(h_conv1)\n",
    "layer1 = h_pool1 # image: 28 x 28 -> 14 x 14 by maxpooling; feature maps: 1 -> 32 by convolution.\n",
    "\n",
    "# config conv-layer 2\n",
    "W_conv2 = initialize_variable([5,5,32,64], vtype='weight')\n",
    "b_conv2 = initialize_variable([64], vtype='bias')\n",
    "h_conv2 = tf.nn.relu(tf.add(conv2d(layer1, W_conv2), b_conv2))\n",
    "h_pool2 = max_pool_2x2(h_conv2)\n",
    "layer2 = h_pool2 # image: 14 x 14 -> 7 x 7 by maxpooling; feature maps: 32 -> 64 by convolution.\n",
    "layer2_mat = tf.reshape(layer2, [-1, 7*7*64]) # flatten, but ignore num_in_batch with -1.\n",
    "\n",
    "# config fully-connected layer 1\n",
    "W_dense1 = initialize_variable([7*7*64, 1024], vtype='weight')\n",
    "b_dense1 = initialize_variable([1024], vtype='bias')\n",
    "h_dense1 = tf.nn.relu(tf.add(tf.matmul(layer2_mat, W_dense1), b_dense1))\n",
    "layer3 = h_dense1 # flattened convoluted image: 7*7*64=3136 -> 1024.\n",
    "keep_prob = tf.placeholder(tf.float32)\n",
    "layer3_drop = tf.nn.dropout(layer3, keep_prob) # dropout at a prob.\n",
    "\n",
    "# config fully-connected layer 2\n",
    "W_dense2 = initialize_variable([1024, 10], vtype='weight')\n",
    "b_dense2 = initialize_variable([10], vtype='bias')\n",
    "y_pred = tf.nn.softmax(tf.add(tf.matmul(layer3_drop, W_dense2), b_dense2)) # 1024 -> 10 for 10-class prediction.\n",
    "\n",
    "# set cost (crossent)\n",
    "cost = tf.reduce_mean(-tf.reduce_sum(y * tf.log(y_pred), reduction_indices=[1]))\n",
    "\n",
    "# set optimization option\n",
    "train = tf.train.AdamOptimizer(1e-4).minimize(cost) # faster and performs better than basic gradient descent.\n",
    "\n",
    "# set port for computing accuracy\n",
    "correct_pred = tf.equal(tf.argmax(y_pred,1), tf.argmax(y,1))\n",
    "accuracy = tf.reduce_mean(tf.cast(correct_pred, tf.float32))"
   ]
  },
  {
   "cell_type": "code",
   "execution_count": 13,
   "metadata": {
    "collapsed": false
   },
   "outputs": [
    {
     "name": "stdout",
     "output_type": "stream",
     "text": [
      "Epoch 0 validation accuracy: 0.957 (123.180384874 secs)\n",
      "Epoch 1 validation accuracy: 0.9736 (124.004452944 secs)\n",
      "Epoch 2 validation accuracy: 0.9796 (127.318325996 secs)\n",
      "Epoch 3 validation accuracy: 0.9824 (124.715348959 secs)\n",
      "Epoch 4 validation accuracy: 0.9854 (124.891174078 secs)\n",
      "Epoch 5 validation accuracy: 0.9856 (124.213739872 secs)\n",
      "Epoch 6 validation accuracy: 0.9866 (129.192487955 secs)\n",
      "Epoch 7 validation accuracy: 0.9884 (123.489541054 secs)\n",
      "Epoch 8 validation accuracy: 0.989 (124.504203081 secs)\n",
      "Epoch 9 validation accuracy: 0.9892 (122.247591019 secs)\n",
      "Epoch 10 validation accuracy: 0.99 (128.489157915 secs)\n",
      "Epoch 11 validation accuracy: 0.9896 (133.802914143 secs)\n",
      "Epoch 12 validation accuracy: 0.9914 (115.682154894 secs)\n",
      "Epoch 13 validation accuracy: 0.9914 (126.977251053 secs)\n",
      "Epoch 14 validation accuracy: 0.9906 (122.074306965 secs)\n",
      "Epoch 15 validation accuracy: 0.9912 (128.885483027 secs)\n",
      "Epoch 16 validation accuracy: 0.992 (123.629317045 secs)\n",
      "Epoch 17 validation accuracy: 0.9928 (121.85639286 secs)\n",
      "Epoch 18 validation accuracy: 0.9918 (120.375236034 secs)\n",
      "Epoch 19 validation accuracy: 0.9918 (121.308862925 secs)\n",
      "Epoch 20 validation accuracy: 0.9914 (116.644618988 secs)\n",
      "Epoch 21 validation accuracy: 0.9908 (115.699886084 secs)\n",
      "Epoch 22 validation accuracy: 0.992 (116.231796026 secs)\n",
      "Epoch 23 validation accuracy: 0.991 (116.334625006 secs)\n",
      "Epoch 24 validation accuracy: 0.9928 (116.486961126 secs)\n",
      "Epoch 25 validation accuracy: 0.992 (113.77345705 secs)\n",
      "Epoch 26 validation accuracy: 0.9928 (113.454844952 secs)\n",
      "Epoch 27 validation accuracy: 0.9926 (113.455092192 secs)\n",
      "Epoch 28 validation accuracy: 0.9922 (113.084211111 secs)\n",
      "Epoch 29 validation accuracy: 0.9924 (112.830262184 secs)\n",
      "Final accuracy: 0.9923\n",
      "CPU times: user 4h 47min 6s, sys: 51min 18s, total: 5h 38min 24s\n",
      "Wall time: 1h 49s\n"
     ]
    }
   ],
   "source": [
    "%%time\n",
    "\n",
    "# TRAINING\n",
    "\n",
    "with tf.Session() as sess:\n",
    "    sess.run(tf.global_variables_initializer())\n",
    "    for i in xrange(num_epochs):\n",
    "        start_time = time.time()\n",
    "        for _ in xrange(num_batchs):\n",
    "            batch_xs, batch_ys = mnist.train.next_batch(100)\n",
    "            sess.run(train, feed_dict={x: batch_xs, y: batch_ys, keep_prob:.5})\n",
    "        valid_acc = sess.run(accuracy, feed_dict={x: mnist.validation.images, \n",
    "                                                  y: mnist.validation.labels,\n",
    "                                                  keep_prob: 1.})\n",
    "        end_time = time.time()\n",
    "        print \"Epoch\", i, \"validation accuracy:\", valid_acc, \"(\"+str(end_time-start_time)+\" secs)\"\n",
    "    print \"Final accuracy:\", sess.run(accuracy, feed_dict={x: mnist.test.images, \n",
    "                                                           y: mnist.test.labels,\n",
    "                                                           keep_prob:1.})"
   ]
  },
  {
   "cell_type": "markdown",
   "metadata": {},
   "source": [
    "## II. Implementation 3b\n",
    "\n",
    "* TODO: Finding the right hyperparams might take quite a bit of time."
   ]
  },
  {
   "cell_type": "code",
   "execution_count": 54,
   "metadata": {
    "collapsed": false
   },
   "outputs": [],
   "source": [
    "# HELPER FUNCS\n",
    "\n",
    "def initialize_variable(shape, vtype):\n",
    "    \"\"\"\n",
    "    Initialize for weights or biases (by Xavier Initialization, Glorot & Bengio (2010)).\n",
    "    \n",
    "    Arguments:\n",
    "    shape: Shape of weight/bias matrix.\n",
    "    vtype: Select weight/bias matrix.\n",
    "    \n",
    "    Returns a tensorflow Variable (tensor) of desired shape with random values. \n",
    "    \"\"\"\n",
    "    if vtype=='bias': \n",
    "        return constant(.1, shape=shape)\n",
    "    in_dim, out_dim = shape[2], shape[3]\n",
    "    low = -4*np.sqrt(6.0/(in_dim+out_dim))\n",
    "    high = 4*np.sqrt(6.0/(in_dim+out_dim))\n",
    "    return Variable(tf.random_uniform(shape=shape, minval=low, maxval=high))\n",
    "           \n",
    "    return tf.Variable(tf.truncated_normal(shape, stddev=.1)) if vtype=='weight' else \\\n",
    "           tf.constant(.1, shape=shape) # shape: [height, width, input/channel, output/feature_map].    \n",
    "    \n",
    "def conv2d(x, W):\n",
    "    \"\"\"\n",
    "    Perform 2D convolution on input matrix.\n",
    "    \n",
    "    Arguments:\n",
    "    x: Input matrix.\n",
    "    W: Shared weights for x.\n",
    "    \n",
    "    Returns output matrix after feature mapping.\n",
    "    \"\"\"\n",
    "    return tf.nn.conv2d(x, W, strides=[1,1,1,1], padding='SAME') \n",
    "        # strides: [num_in_batch, height, width, num_channels]\n",
    "\n",
    "def max_pool_2x2(x):\n",
    "    \"\"\"\n",
    "    Perform 2D max-pooling on input matrix (usually output from convolution operation).\n",
    "    \n",
    "    Arguments:\n",
    "    x: Input matrix.\n",
    "    \n",
    "    Returns output matrix after max-pooling.\n",
    "    \"\"\"\n",
    "    return tf.nn.max_pool(x, ksize=[1,2,2,1], strides=[1,2,2,1], padding='SAME')\n",
    "        # ksize: kernel size, [num_in_batch, height, width, num_channels].\n",
    "        # dimensions need to be the same as strides."
   ]
  },
  {
   "cell_type": "code",
   "execution_count": 55,
   "metadata": {
    "collapsed": true
   },
   "outputs": [],
   "source": [
    "# SET CONFIGS\n",
    "\n",
    "num_train = mnist.train.num_examples\n",
    "num_batchs = num_train // 100\n",
    "num_epochs = 30\n",
    "\n",
    "lmd = 5.0\n",
    "\n",
    "valid_tol = 0.0\n",
    "early_stop_steps = 10\n",
    "\n",
    "lr = 0.0001\n",
    "lr_decay = 0.5\n",
    "lr_stop = 7\n",
    "\n",
    "mu = 0.5"
   ]
  },
  {
   "cell_type": "code",
   "execution_count": 56,
   "metadata": {
    "collapsed": false
   },
   "outputs": [],
   "source": [
    "# BUILD GRAPH\n",
    "\n",
    "# set sizes for input and output\n",
    "x = tf.placeholder(tf.float32, shape=[None, 784])\n",
    "y = tf.placeholder(tf.float32, shape=[None, 10])\n",
    "x_image = tf.reshape(x, [-1, 28, 28, 1])\n",
    "\n",
    "# confif conv-layer 1\n",
    "W_conv1 = initialize_variable([5,5,1,32], vtype='weight') # 5 x 5 filter, channel=1 (grayscale), 32 feature maps.\n",
    "b_conv1 = initialize_variable([32], vtype='bias')\n",
    "h_conv1 = tf.nn.relu(tf.add(conv2d(x_image, W_conv1), b_conv1))\n",
    "h_pool1 = max_pool_2x2(h_conv1)\n",
    "layer1 = h_pool1 # image: 28 x 28 -> 14 x 14 by maxpooling; feature maps: 1 -> 32 by convolution.\n",
    "\n",
    "# config conv-layer 2\n",
    "W_conv2 = initialize_variable([5,5,32,64], vtype='weight')\n",
    "b_conv2 = initialize_variable([64], vtype='bias')\n",
    "h_conv2 = tf.nn.relu(tf.add(conv2d(layer1, W_conv2), b_conv2))\n",
    "h_pool2 = max_pool_2x2(h_conv2)\n",
    "layer2 = h_pool2 # image: 14 x 14 -> 7 x 7 by maxpooling; feature maps: 32 -> 64 by convolution.\n",
    "layer2_mat = tf.reshape(layer2, [-1, 7*7*64]) # flatten, but ignore num_in_batch with -1.\n",
    "\n",
    "# config fully-connected layer 1\n",
    "W_dense1 = initialize_variable([7*7*64, 1024], vtype='weight')\n",
    "b_dense1 = initialize_variable([1024], vtype='bias')\n",
    "h_dense1 = tf.nn.relu(tf.add(tf.matmul(layer2_mat, W_dense1), b_dense1))\n",
    "layer3 = h_dense1 # flattened convoluted image: 7*7*64=3136 -> 1024.\n",
    "keep_prob = tf.placeholder(tf.float32)\n",
    "layer3_drop = tf.nn.dropout(layer3, keep_prob) # dropout at a prob.\n",
    "\n",
    "# config fully-connected layer 2\n",
    "W_dense2 = initialize_variable([1024, 10], vtype='weight')\n",
    "b_dense2 = initialize_variable([10], vtype='bias')\n",
    "y_pred = tf.nn.softmax(tf.add(tf.matmul(layer3_drop, W_dense2), b_dense2)) # 1024 -> 10 for 10-class prediction.\n",
    "\n",
    "# set cost (crossent)\n",
    "# cost = tf.reduce_mean(-tf.reduce_sum(y * tf.log(y_pred), reduction_indices=[1]))\n",
    "loss = tf.reduce_mean(-tf.reduce_sum(y * tf.log(y_pred), reduction_indices=[1]))\n",
    "regularizer = tf.reduce_mean(tf.nn.l2_loss(W_conv1) + tf.nn.l2_loss(W_conv2) + \\\n",
    "                             tf.nn.l2_loss(W_dense1) + tf.nn.l2_loss(W_dense2))\n",
    "cost = loss + lmd * regularizer\n",
    "\n",
    "# loss = tf.reduce_mean(-tf.reduce_sum(y * tf.log(a2), reduction_indices=[1]))\n",
    "# regularizer = tf.reduce_mean(tf.nn.l2_loss(w1) + tf.nn.l2_loss(w2))\n",
    "# cost = loss + lmd * regularizer\n",
    "\n",
    "# set optimization option\n",
    "train = tf.train.AdamOptimizer(lr).minimize(cost) # faster and performs better than basic gradient descent.\n",
    "\n",
    "# set port for computing accuracy\n",
    "correct_pred = tf.equal(tf.argmax(y_pred,1), tf.argmax(y,1))\n",
    "accuracy = tf.reduce_mean(tf.cast(correct_pred, tf.float32))"
   ]
  },
  {
   "cell_type": "code",
   "execution_count": 58,
   "metadata": {
    "collapsed": false
   },
   "outputs": [],
   "source": [
    "%%time\n",
    "\n",
    "# TRAINING\n",
    "\n",
    "with tf.Session() as sess:\n",
    "    sess.run(tf.global_variables_initializer())\n",
    "    cur_valid_acc = 0.0\n",
    "    no_improve_steps = 0\n",
    "    lr_decay_steps = 0\n",
    "    stop_at = num_epochs\n",
    "    for i in xrange(num_epochs):\n",
    "        start_time = time.time()\n",
    "        for _ in xrange(num_batchs):\n",
    "            batch_xs, batch_ys = mnist.train.next_batch(100)\n",
    "            sess.run(train, feed_dict={x: batch_xs, y: batch_ys, keep_prob:.5})\n",
    "        valid_acc = sess.run(accuracy, feed_dict={x: mnist.validation.images, \n",
    "                                                  y: mnist.validation.labels,\n",
    "                                                  keep_prob: 1.})\n",
    "        if valid_acc - valid_acc < valid_tol:\n",
    "            no_improve_steps += 1\n",
    "            lr = lr * lr_decay\n",
    "            lr_decay_steps += 1\n",
    "        if no_improve_steps==early_stop_steps or lr_decay_steps==lr_stop:\n",
    "            stop_at = i\n",
    "            break\n",
    "        end_time = time.time()\n",
    "        print \"Epoch\", i, \"validation accuracy:\", valid_acc, \"(\"+str(end_time-start_time)+\" secs)\"\n",
    "    print \"Final accuracy:\", sess.run(accuracy, feed_dict={x: mnist.test.images, \n",
    "                                                           y: mnist.test.labels,\n",
    "                                                           keep_prob:1.}), '('+str(stop_at)+')'"
   ]
  },
  {
   "cell_type": "code",
   "execution_count": null,
   "metadata": {
    "collapsed": true
   },
   "outputs": [],
   "source": []
  }
 ],
 "metadata": {
  "kernelspec": {
   "display_name": "Python 2",
   "language": "python",
   "name": "python2"
  },
  "language_info": {
   "codemirror_mode": {
    "name": "ipython",
    "version": 2
   },
   "file_extension": ".py",
   "mimetype": "text/x-python",
   "name": "python",
   "nbconvert_exporter": "python",
   "pygments_lexer": "ipython2",
   "version": "2.7.11"
  }
 },
 "nbformat": 4,
 "nbformat_minor": 0
}
